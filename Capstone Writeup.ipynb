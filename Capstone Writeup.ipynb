{
 "cells": [
  {
   "cell_type": "markdown",
   "metadata": {},
   "source": [
    "# German Credit Card Fraud"
   ]
  },
  {
   "cell_type": "markdown",
   "metadata": {},
   "source": [
    "**Data source:** UCI machine learning library, found [here](http://archive.ics.uci.edu/ml/datasets/Statlog+%28German+Credit+Data%29).\n",
    "\n",
    "**Project purpose:**\n",
    "I am enrolled in the Data Science with Python module under the Thinkful bootcamp program. The project represents a simulation of fraud detection for adding to my project portfolio. An open dataset allowed me to practice applying machine learning algorithms through the prediction modeling process. Classification of good and bad credit card customers for fraud detection can be done in different ways. I chose one method of solving the problem, but there are many others such as different models and oversampling techniques.  \n",
    "\n",
    "**Business Case:**\n",
    "Simulating a fraud case, increasing accuracy, precision and recall remain the objectives. Precision is important because I want to predict all the bad creditors labels to be true. Recall for not mislabeling any good creditors accidentally as bad. \n",
    "\n",
    "**Cases to avoid:**\n",
    "I am not interested in decreasing processing time like helping the algorithm converge because the code is not meant to be scaled into production. "
   ]
  },
  {
   "cell_type": "markdown",
   "metadata": {},
   "source": [
    "**Software:** \n",
    "Python with packages sklearn, pandas, numpy, and others. \n",
    "\n",
    "**Machine learning problem:**\n",
    "supervised learning - classification based on 20 variables\n",
    "\n",
    "**Algorithm:**\n",
    "Logistic regression"
   ]
  },
  {
   "cell_type": "markdown",
   "metadata": {},
   "source": [
    "## Glossary \n",
    "1. Import \n",
    "  1. Dataset \n",
    "  2. Packages\n",
    "2. Data exploration\n",
    "  1. Summary statistics\n",
    "  2. Visualizations\n",
    "3. Data preparation\n",
    "  1. Convert class labels to (0, 1)\n",
    "  2. Convert categorical variables to binary\n",
    "4. Model building\n",
    "5. Model evaluation\n",
    "6. Data preparation pt. 2\n",
    "  1. Oversampling\n",
    "7. Model building pt. 2 \n",
    "8. Model evaluation pt. 2\n",
    "9. Study conclusion\n",
    "  1. Compare models with evaluation plots\n",
    "10. Additional notes"
   ]
  },
  {
   "cell_type": "markdown",
   "metadata": {},
   "source": [
    "## 1. Imports "
   ]
  },
  {
   "cell_type": "markdown",
   "metadata": {},
   "source": [
    "### 1a. Import packages "
   ]
  },
  {
   "cell_type": "code",
   "execution_count": 1,
   "metadata": {
    "collapsed": false
   },
   "outputs": [],
   "source": [
    "%matplotlib inline \n",
    "import matplotlib.pylab as pylab\n",
    "import matplotlib.pyplot as plt\n",
    "import seaborn as sns\n",
    "pylab.rcParams['figure.figsize'] = 14, 10\n",
    "import pandas as pd\n",
    "import sklearn.linear_model as ln\n",
    "import numpy as np\n",
    "from sklearn.cross_validation import cross_val_score\n",
    "from unbalanced_dataset import SMOTE"
   ]
  },
  {
   "cell_type": "markdown",
   "metadata": {},
   "source": [
    "### 1b. Import Data"
   ]
  },
  {
   "cell_type": "markdown",
   "metadata": {},
   "source": [
    "The data comes from the UCI repository, but does not have a link for downloading the .csv file. I copied and pasted the data found from the following link into and .xlsx file. With the data in the .xlsx file, I used delimiter for separating the columns by space and typed in each column name. I decided on leaving the categorical value names in instead of replacing with the original names. "
   ]
  },
  {
   "cell_type": "code",
   "execution_count": 2,
   "metadata": {
    "collapsed": true
   },
   "outputs": [],
   "source": [
    "german_credit = pd.read_csv('German.csv')"
   ]
  },
  {
   "cell_type": "markdown",
   "metadata": {},
   "source": [
    "## 2. Data Exploration"
   ]
  },
  {
   "cell_type": "markdown",
   "metadata": {},
   "source": [
    "### 2a. Summary Statistics"
   ]
  },
  {
   "cell_type": "code",
   "execution_count": 3,
   "metadata": {
    "collapsed": false
   },
   "outputs": [
    {
     "data": {
      "text/plain": [
       "(1000, 21)"
      ]
     },
     "execution_count": 3,
     "metadata": {},
     "output_type": "execute_result"
    }
   ],
   "source": [
    "#Dimension of dataset\n",
    "german_credit.shape"
   ]
  },
  {
   "cell_type": "markdown",
   "metadata": {},
   "source": [
    "1000 rows by 21 columns"
   ]
  },
  {
   "cell_type": "code",
   "execution_count": 4,
   "metadata": {
    "collapsed": false
   },
   "outputs": [
    {
     "data": {
      "text/plain": [
       "Status checking            object\n",
       "Duration                    int64\n",
       "Credit history             object\n",
       "Purpose                    object\n",
       "Credit amount               int64\n",
       "Savings account/bonds      object\n",
       "Present employment         object\n",
       "Installment rate            int64\n",
       "Personal status/sex        object\n",
       "Debtors/guarantors         object\n",
       "Present resident since      int64\n",
       "Property                   object\n",
       "Age                         int64\n",
       "Other installment plans    object\n",
       "Housing                    object\n",
       "Number existing credits     int64\n",
       "Job                        object\n",
       "Number of people liable     int64\n",
       "Telephone                  object\n",
       "Foreign worker             object\n",
       "Classification              int64\n",
       "dtype: object"
      ]
     },
     "execution_count": 4,
     "metadata": {},
     "output_type": "execute_result"
    }
   ],
   "source": [
    "#Column datatypes\n",
    "german_credit.dtypes"
   ]
  },
  {
   "cell_type": "markdown",
   "metadata": {},
   "source": [
    "13 categorical values and 7 numeric (excluding the class label)"
   ]
  },
  {
   "cell_type": "code",
   "execution_count": 5,
   "metadata": {
    "collapsed": false
   },
   "outputs": [
    {
     "data": {
      "text/plain": [
       "Status checking            1000\n",
       "Duration                   1000\n",
       "Credit history             1000\n",
       "Purpose                    1000\n",
       "Credit amount              1000\n",
       "Savings account/bonds      1000\n",
       "Present employment         1000\n",
       "Installment rate           1000\n",
       "Personal status/sex        1000\n",
       "Debtors/guarantors         1000\n",
       "Present resident since     1000\n",
       "Property                   1000\n",
       "Age                        1000\n",
       "Other installment plans    1000\n",
       "Housing                    1000\n",
       "Number existing credits    1000\n",
       "Job                        1000\n",
       "Number of people liable    1000\n",
       "Telephone                  1000\n",
       "Foreign worker             1000\n",
       "Classification             1000\n",
       "dtype: int64"
      ]
     },
     "execution_count": 5,
     "metadata": {},
     "output_type": "execute_result"
    }
   ],
   "source": [
    "#Number of NaN values in each column\n",
    "german_credit.notnull().sum()"
   ]
  },
  {
   "cell_type": "markdown",
   "metadata": {},
   "source": [
    "No NaN values found in dataset"
   ]
  },
  {
   "cell_type": "markdown",
   "metadata": {},
   "source": [
    "Summary statistics of the numeric variables, including the classification label"
   ]
  },
  {
   "cell_type": "code",
   "execution_count": 6,
   "metadata": {
    "collapsed": false
   },
   "outputs": [
    {
     "data": {
      "text/html": [
       "<div>\n",
       "<table border=\"1\" class=\"dataframe\">\n",
       "  <thead>\n",
       "    <tr style=\"text-align: right;\">\n",
       "      <th></th>\n",
       "      <th>Duration</th>\n",
       "      <th>Credit amount</th>\n",
       "      <th>Installment rate</th>\n",
       "      <th>Present resident since</th>\n",
       "      <th>Age</th>\n",
       "      <th>Number existing credits</th>\n",
       "      <th>Number of people liable</th>\n",
       "      <th>Classification</th>\n",
       "    </tr>\n",
       "  </thead>\n",
       "  <tbody>\n",
       "    <tr>\n",
       "      <th>count</th>\n",
       "      <td>1000.000000</td>\n",
       "      <td>1000.000000</td>\n",
       "      <td>1000.000000</td>\n",
       "      <td>1000.000000</td>\n",
       "      <td>1000.000000</td>\n",
       "      <td>1000.000000</td>\n",
       "      <td>1000.000000</td>\n",
       "      <td>1000.000000</td>\n",
       "    </tr>\n",
       "    <tr>\n",
       "      <th>mean</th>\n",
       "      <td>20.903000</td>\n",
       "      <td>3271.258000</td>\n",
       "      <td>2.973000</td>\n",
       "      <td>2.845000</td>\n",
       "      <td>35.546000</td>\n",
       "      <td>1.407000</td>\n",
       "      <td>1.155000</td>\n",
       "      <td>1.300000</td>\n",
       "    </tr>\n",
       "    <tr>\n",
       "      <th>std</th>\n",
       "      <td>12.058814</td>\n",
       "      <td>2822.736876</td>\n",
       "      <td>1.118715</td>\n",
       "      <td>1.103718</td>\n",
       "      <td>11.375469</td>\n",
       "      <td>0.577654</td>\n",
       "      <td>0.362086</td>\n",
       "      <td>0.458487</td>\n",
       "    </tr>\n",
       "    <tr>\n",
       "      <th>min</th>\n",
       "      <td>4.000000</td>\n",
       "      <td>250.000000</td>\n",
       "      <td>1.000000</td>\n",
       "      <td>1.000000</td>\n",
       "      <td>19.000000</td>\n",
       "      <td>1.000000</td>\n",
       "      <td>1.000000</td>\n",
       "      <td>1.000000</td>\n",
       "    </tr>\n",
       "    <tr>\n",
       "      <th>25%</th>\n",
       "      <td>12.000000</td>\n",
       "      <td>1365.500000</td>\n",
       "      <td>2.000000</td>\n",
       "      <td>2.000000</td>\n",
       "      <td>27.000000</td>\n",
       "      <td>1.000000</td>\n",
       "      <td>1.000000</td>\n",
       "      <td>1.000000</td>\n",
       "    </tr>\n",
       "    <tr>\n",
       "      <th>50%</th>\n",
       "      <td>18.000000</td>\n",
       "      <td>2319.500000</td>\n",
       "      <td>3.000000</td>\n",
       "      <td>3.000000</td>\n",
       "      <td>33.000000</td>\n",
       "      <td>1.000000</td>\n",
       "      <td>1.000000</td>\n",
       "      <td>1.000000</td>\n",
       "    </tr>\n",
       "    <tr>\n",
       "      <th>75%</th>\n",
       "      <td>24.000000</td>\n",
       "      <td>3972.250000</td>\n",
       "      <td>4.000000</td>\n",
       "      <td>4.000000</td>\n",
       "      <td>42.000000</td>\n",
       "      <td>2.000000</td>\n",
       "      <td>1.000000</td>\n",
       "      <td>2.000000</td>\n",
       "    </tr>\n",
       "    <tr>\n",
       "      <th>max</th>\n",
       "      <td>72.000000</td>\n",
       "      <td>18424.000000</td>\n",
       "      <td>4.000000</td>\n",
       "      <td>4.000000</td>\n",
       "      <td>75.000000</td>\n",
       "      <td>4.000000</td>\n",
       "      <td>2.000000</td>\n",
       "      <td>2.000000</td>\n",
       "    </tr>\n",
       "  </tbody>\n",
       "</table>\n",
       "</div>"
      ],
      "text/plain": [
       "          Duration  Credit amount  Installment rate  Present resident since  \\\n",
       "count  1000.000000    1000.000000       1000.000000             1000.000000   \n",
       "mean     20.903000    3271.258000          2.973000                2.845000   \n",
       "std      12.058814    2822.736876          1.118715                1.103718   \n",
       "min       4.000000     250.000000          1.000000                1.000000   \n",
       "25%      12.000000    1365.500000          2.000000                2.000000   \n",
       "50%      18.000000    2319.500000          3.000000                3.000000   \n",
       "75%      24.000000    3972.250000          4.000000                4.000000   \n",
       "max      72.000000   18424.000000          4.000000                4.000000   \n",
       "\n",
       "               Age  Number existing credits  Number of people liable  \\\n",
       "count  1000.000000              1000.000000              1000.000000   \n",
       "mean     35.546000                 1.407000                 1.155000   \n",
       "std      11.375469                 0.577654                 0.362086   \n",
       "min      19.000000                 1.000000                 1.000000   \n",
       "25%      27.000000                 1.000000                 1.000000   \n",
       "50%      33.000000                 1.000000                 1.000000   \n",
       "75%      42.000000                 2.000000                 1.000000   \n",
       "max      75.000000                 4.000000                 2.000000   \n",
       "\n",
       "       Classification  \n",
       "count     1000.000000  \n",
       "mean         1.300000  \n",
       "std          0.458487  \n",
       "min          1.000000  \n",
       "25%          1.000000  \n",
       "50%          1.000000  \n",
       "75%          2.000000  \n",
       "max          2.000000  "
      ]
     },
     "execution_count": 6,
     "metadata": {},
     "output_type": "execute_result"
    }
   ],
   "source": [
    "#Summary statistics\n",
    "german_credit.describe()"
   ]
  },
  {
   "cell_type": "markdown",
   "metadata": {},
   "source": [
    "### 2b. Visualizations"
   ]
  },
  {
   "cell_type": "markdown",
   "metadata": {},
   "source": [
    "Histograms of numeric variables"
   ]
  },
  {
   "cell_type": "code",
   "execution_count": 7,
   "metadata": {
    "collapsed": false
   },
   "outputs": [
    {
     "data": {
      "text/plain": [
       "array([[<matplotlib.axes._subplots.AxesSubplot object at 0x107e2eba8>,\n",
       "        <matplotlib.axes._subplots.AxesSubplot object at 0x107d5d860>],\n",
       "       [<matplotlib.axes._subplots.AxesSubplot object at 0x107c641d0>,\n",
       "        <matplotlib.axes._subplots.AxesSubplot object at 0x107cb2278>]], dtype=object)"
      ]
     },
     "execution_count": 7,
     "metadata": {},
     "output_type": "execute_result"
    },
    {
     "data": {
      "image/png": "[encoded data removed]",
      "text/plain": [
       "<matplotlib.figure.Figure at 0x107e2e5c0>"
      ]
     },
     "metadata": {},
     "output_type": "display_data"
    }
   ],
   "source": [
    "german_credit[['Age', 'Credit amount', 'Duration']].hist()"
   ]
  },
  {
   "cell_type": "code",
   "execution_count": 46,
   "metadata": {
    "collapsed": false
   },
   "outputs": [
    {
     "data": {
      "text/plain": [
       "array([[<matplotlib.axes._subplots.AxesSubplot object at 0x10a314390>,\n",
       "        <matplotlib.axes._subplots.AxesSubplot object at 0x10a3f4e10>],\n",
       "       [<matplotlib.axes._subplots.AxesSubplot object at 0x10a624eb8>,\n",
       "        <matplotlib.axes._subplots.AxesSubplot object at 0x10a65ef28>]], dtype=object)"
      ]
     },
     "execution_count": 46,
     "metadata": {},
     "output_type": "execute_result"
    },
    {
     "data": {
      "image/png": "[encoded data removed]",
      "text/plain": [
       "<matplotlib.figure.Figure at 0x108f58ac8>"
      ]
     },
     "metadata": {},
     "output_type": "display_data"
    }
   ],
   "source": [
    "german_credit[['Number of people liable', 'Number existing credits', \n",
    "             'Present resident since', 'Installment rate']].hist(bins = 2)"
   ]
  },
  {
   "cell_type": "markdown",
   "metadata": {},
   "source": [
    "1. Categorical value descriptions:\n",
    "  1. Number of factors in each variable\n",
    "  1. Descriptions of each factor"
   ]
  },
  {
   "cell_type": "markdown",
   "metadata": {},
   "source": [
    "Status of existing checking account \n",
    "- A11 : ... < 0 DM \n",
    "- A12 : 0 <= ... < 200 DM \n",
    "- A13 : ... >= 200 DM / salary assignments for at least 1 year \n",
    "- A14 : no checking account "
   ]
  },
  {
   "cell_type": "code",
   "execution_count": 9,
   "metadata": {
    "collapsed": false
   },
   "outputs": [
    {
     "data": {
      "text/plain": [
       "A14    394\n",
       "A11    274\n",
       "A12    269\n",
       "A13     63\n",
       "dtype: int64"
      ]
     },
     "execution_count": 9,
     "metadata": {},
     "output_type": "execute_result"
    }
   ],
   "source": [
    "#Status checking\n",
    "german_credit['Status checking'].value_counts()"
   ]
  },
  {
   "cell_type": "markdown",
   "metadata": {},
   "source": [
    "Credit history \n",
    "- A30 : no credits taken/ all credits paid back duly \n",
    "- A31 : all credits at this bank paid back duly \n",
    "- A32 : existing credits paid back duly till now \n",
    "- A33 : delay in paying off in the past \n",
    "- A34 : critical account/ other credits existing (not at this bank) "
   ]
  },
  {
   "cell_type": "code",
   "execution_count": 10,
   "metadata": {
    "collapsed": false
   },
   "outputs": [
    {
     "data": {
      "text/plain": [
       "A32    530\n",
       "A34    293\n",
       "A33     88\n",
       "A31     49\n",
       "A30     40\n",
       "dtype: int64"
      ]
     },
     "execution_count": 10,
     "metadata": {},
     "output_type": "execute_result"
    }
   ],
   "source": [
    "#Credit history\n",
    "german_credit['Credit history'].value_counts()"
   ]
  },
  {
   "cell_type": "markdown",
   "metadata": {},
   "source": [
    "Purpose \n",
    "- A40 : car (new) \n",
    "- A41 : car (used) \n",
    "- A42 : furniture/equipment \n",
    "- A43 : radio/television \n",
    "- A44 : domestic appliances \n",
    "- A45 : repairs \n",
    "- A46 : education \n",
    "- A47 : (vacation - does not exist?) \n",
    "- A48 : retraining \n",
    "- A49 : business \n",
    "- A410 : others "
   ]
  },
  {
   "cell_type": "code",
   "execution_count": 11,
   "metadata": {
    "collapsed": false
   },
   "outputs": [
    {
     "data": {
      "text/plain": [
       "A43     280\n",
       "A40     234\n",
       "A42     181\n",
       "A41     103\n",
       "A49      97\n",
       "A46      50\n",
       "A45      22\n",
       "A410     12\n",
       "A44      12\n",
       "A48       9\n",
       "dtype: int64"
      ]
     },
     "execution_count": 11,
     "metadata": {},
     "output_type": "execute_result"
    }
   ],
   "source": [
    "#Purpose\n",
    "german_credit['Purpose'].value_counts()"
   ]
  },
  {
   "cell_type": "markdown",
   "metadata": {},
   "source": [
    "Savings account/bonds \n",
    "- A61 : ... < 100 DM \n",
    "- A62 : 100 <= ... < 500 DM \n",
    "- A63 : 500 <= ... < 1000 DM \n",
    "- A64 : .. >= 1000 DM \n",
    "- A65 : unknown/ no savings account "
   ]
  },
  {
   "cell_type": "code",
   "execution_count": 12,
   "metadata": {
    "collapsed": false
   },
   "outputs": [
    {
     "data": {
      "text/plain": [
       "A61    603\n",
       "A65    183\n",
       "A62    103\n",
       "A63     63\n",
       "A64     48\n",
       "dtype: int64"
      ]
     },
     "execution_count": 12,
     "metadata": {},
     "output_type": "execute_result"
    }
   ],
   "source": [
    "#Savings account/bonds\n",
    "german_credit['Savings account/bonds'].value_counts()"
   ]
  },
  {
   "cell_type": "markdown",
   "metadata": {},
   "source": [
    "Present employment since \n",
    "- A71 : unemployed \n",
    "- A72 : ... < 1 year \n",
    "- A73 : 1 <= ... < 4 years \n",
    "- A74 : 4 <= ... < 7 years \n",
    "- A75 : .. >= 7 years "
   ]
  },
  {
   "cell_type": "code",
   "execution_count": 13,
   "metadata": {
    "collapsed": false
   },
   "outputs": [
    {
     "data": {
      "text/plain": [
       "A73    339\n",
       "A75    253\n",
       "A74    174\n",
       "A72    172\n",
       "A71     62\n",
       "dtype: int64"
      ]
     },
     "execution_count": 13,
     "metadata": {},
     "output_type": "execute_result"
    }
   ],
   "source": [
    "#Present employment\n",
    "german_credit['Present employment'].value_counts()"
   ]
  },
  {
   "cell_type": "markdown",
   "metadata": {},
   "source": [
    "Personal status and sex \n",
    "- A91 : male : divorced/separated \n",
    "- A92 : female : divorced/separated/married \n",
    "- A93 : male : single \n",
    "- A94 : male : married/widowed \n",
    "- A95 : female : single "
   ]
  },
  {
   "cell_type": "code",
   "execution_count": 14,
   "metadata": {
    "collapsed": false
   },
   "outputs": [
    {
     "data": {
      "text/plain": [
       "A93    548\n",
       "A92    310\n",
       "A94     92\n",
       "A91     50\n",
       "dtype: int64"
      ]
     },
     "execution_count": 14,
     "metadata": {},
     "output_type": "execute_result"
    }
   ],
   "source": [
    "#Personal status/sex\n",
    "german_credit['Personal status/sex'].value_counts()"
   ]
  },
  {
   "cell_type": "markdown",
   "metadata": {},
   "source": [
    "Other debtors / guarantors \n",
    "- A101 : none \n",
    "- A102 : co-applicant \n",
    "- A103 : guarantor "
   ]
  },
  {
   "cell_type": "code",
   "execution_count": 15,
   "metadata": {
    "collapsed": false
   },
   "outputs": [
    {
     "data": {
      "text/plain": [
       "A101    907\n",
       "A103     52\n",
       "A102     41\n",
       "dtype: int64"
      ]
     },
     "execution_count": 15,
     "metadata": {},
     "output_type": "execute_result"
    }
   ],
   "source": [
    "#Debtors/guarantors\n",
    "german_credit['Debtors/guarantors'].value_counts()"
   ]
  },
  {
   "cell_type": "markdown",
   "metadata": {},
   "source": [
    "Property \n",
    "- A121 : real estate \n",
    "- A122 : if not A121 : building society savings agreement/ life insurance \n",
    "- A123 : if not A121/A122 : car or other, not in attribute 6 \n",
    "- A124 : unknown / no property "
   ]
  },
  {
   "cell_type": "code",
   "execution_count": 16,
   "metadata": {
    "collapsed": false
   },
   "outputs": [
    {
     "data": {
      "text/plain": [
       "A123    332\n",
       "A121    282\n",
       "A122    232\n",
       "A124    154\n",
       "dtype: int64"
      ]
     },
     "execution_count": 16,
     "metadata": {},
     "output_type": "execute_result"
    }
   ],
   "source": [
    "#Property\n",
    "german_credit['Property'].value_counts()"
   ]
  },
  {
   "cell_type": "markdown",
   "metadata": {},
   "source": [
    "Other installment plans \n",
    "- A141 : bank \n",
    "- A142 : stores \n",
    "- A143 : none "
   ]
  },
  {
   "cell_type": "code",
   "execution_count": 17,
   "metadata": {
    "collapsed": false
   },
   "outputs": [
    {
     "data": {
      "text/plain": [
       "A143    814\n",
       "A141    139\n",
       "A142     47\n",
       "dtype: int64"
      ]
     },
     "execution_count": 17,
     "metadata": {},
     "output_type": "execute_result"
    }
   ],
   "source": [
    "#Other installment plans\n",
    "german_credit['Other installment plans'].value_counts()"
   ]
  },
  {
   "cell_type": "markdown",
   "metadata": {},
   "source": [
    "Housing \n",
    "- A151 : rent \n",
    "- A152 : own \n",
    "- A153 : for free "
   ]
  },
  {
   "cell_type": "code",
   "execution_count": 18,
   "metadata": {
    "collapsed": false
   },
   "outputs": [
    {
     "data": {
      "text/plain": [
       "A152    713\n",
       "A151    179\n",
       "A153    108\n",
       "dtype: int64"
      ]
     },
     "execution_count": 18,
     "metadata": {},
     "output_type": "execute_result"
    }
   ],
   "source": [
    "#Housing\n",
    "german_credit['Housing'].value_counts()"
   ]
  },
  {
   "cell_type": "markdown",
   "metadata": {},
   "source": [
    "Job \n",
    "- A171 : unemployed/ unskilled - non-resident \n",
    "- A172 : unskilled - resident \n",
    "- A173 : skilled employee / official \n",
    "- A174 : management/ self-employed/ highly qualified employee/ officer "
   ]
  },
  {
   "cell_type": "code",
   "execution_count": 19,
   "metadata": {
    "collapsed": false
   },
   "outputs": [
    {
     "data": {
      "text/plain": [
       "A173    630\n",
       "A172    200\n",
       "A174    148\n",
       "A171     22\n",
       "dtype: int64"
      ]
     },
     "execution_count": 19,
     "metadata": {},
     "output_type": "execute_result"
    }
   ],
   "source": [
    "#Job\n",
    "german_credit['Job'].value_counts()"
   ]
  },
  {
   "cell_type": "markdown",
   "metadata": {},
   "source": [
    "Telephone \n",
    "- A191 : none \n",
    "- A192 : yes, registered under the customers name "
   ]
  },
  {
   "cell_type": "code",
   "execution_count": 20,
   "metadata": {
    "collapsed": false
   },
   "outputs": [
    {
     "data": {
      "text/plain": [
       "A191    596\n",
       "A192    404\n",
       "dtype: int64"
      ]
     },
     "execution_count": 20,
     "metadata": {},
     "output_type": "execute_result"
    }
   ],
   "source": [
    "#Telephone\n",
    "german_credit['Telephone'].value_counts()"
   ]
  },
  {
   "cell_type": "markdown",
   "metadata": {},
   "source": [
    "foreign worker \n",
    "- A201 : yes \n",
    "- A202 : no "
   ]
  },
  {
   "cell_type": "code",
   "execution_count": 21,
   "metadata": {
    "collapsed": false
   },
   "outputs": [
    {
     "data": {
      "text/plain": [
       "A201    963\n",
       "A202     37\n",
       "dtype: int64"
      ]
     },
     "execution_count": 21,
     "metadata": {},
     "output_type": "execute_result"
    }
   ],
   "source": [
    "#Foreign worker\n",
    "german_credit['Foreign worker'].value_counts()"
   ]
  },
  {
   "cell_type": "markdown",
   "metadata": {},
   "source": [
    "Check balance of class labels for good or bad creditor"
   ]
  },
  {
   "cell_type": "code",
   "execution_count": 22,
   "metadata": {
    "collapsed": false
   },
   "outputs": [
    {
     "data": {
      "text/plain": [
       "1    700\n",
       "2    300\n",
       "dtype: int64"
      ]
     },
     "execution_count": 22,
     "metadata": {},
     "output_type": "execute_result"
    }
   ],
   "source": [
    "german_credit['Classification'].value_counts()"
   ]
  },
  {
   "cell_type": "markdown",
   "metadata": {},
   "source": [
    "The dataset is unbalanced because there are more observations of the good creditors than bad. There are 700 observations of customers with good credit scores and 300 with bad. 1 represents the primary class because of the greater observations and 2 as the minority."
   ]
  },
  {
   "cell_type": "markdown",
   "metadata": {},
   "source": [
    "## 3. Data Preparation"
   ]
  },
  {
   "cell_type": "markdown",
   "metadata": {},
   "source": [
    "### 3a. Class label changes"
   ]
  },
  {
   "cell_type": "markdown",
   "metadata": {},
   "source": [
    "Change classification label from (1,2) to (0,1) for aligning with sklearn's documentation. Without doing this, I got higher precision and recall scores after using the logit model. Sklearn’s precision defines identifying 1 correctly as the TP and since 1 is not the class we should predict, got a higher score. The incorrect class label resulted in predicting the occurrence of a good crediter that was 70% of the data instead of the bad creditor. "
   ]
  },
  {
   "cell_type": "code",
   "execution_count": 23,
   "metadata": {
    "collapsed": true
   },
   "outputs": [],
   "source": [
    "german_credit['Classification'] = german_credit['Classification'].map(lambda x: x-1) "
   ]
  },
  {
   "cell_type": "markdown",
   "metadata": {},
   "source": [
    "### 3b. Convert categorical variables to dummy\n",
    "\n",
    "Logistic regression in sklearn does not automatically convert the categorical variables to binary."
   ]
  },
  {
   "cell_type": "code",
   "execution_count": 24,
   "metadata": {
    "collapsed": true
   },
   "outputs": [],
   "source": [
    "dummy_var = pd.get_dummies(german_credit[['Status checking', 'Credit history', 'Purpose', \n",
    "                              'Savings account/bonds', 'Present employment', \n",
    "                              'Personal status/sex', 'Debtors/guarantors', \n",
    "                              'Property', 'Other installment plans', 'Housing', \n",
    "                              'Job', 'Telephone', 'Foreign worker']])"
   ]
  },
  {
   "cell_type": "markdown",
   "metadata": {},
   "source": [
    "Identify number of new columns after converting to dummy"
   ]
  },
  {
   "cell_type": "code",
   "execution_count": 25,
   "metadata": {
    "collapsed": false
   },
   "outputs": [
    {
     "data": {
      "text/plain": [
       "(1000, 54)"
      ]
     },
     "execution_count": 25,
     "metadata": {},
     "output_type": "execute_result"
    }
   ],
   "source": [
    "dummy_var.shape   "
   ]
  },
  {
   "cell_type": "markdown",
   "metadata": {},
   "source": [
    "Each of the 54 factors turned into a binary variable"
   ]
  },
  {
   "cell_type": "markdown",
   "metadata": {},
   "source": [
    "Subset numeric variables by dropping categorical from dataframe"
   ]
  },
  {
   "cell_type": "code",
   "execution_count": 26,
   "metadata": {
    "collapsed": true
   },
   "outputs": [],
   "source": [
    "credit_new = german_credit.drop(['Status checking', 'Credit history', 'Purpose', \n",
    "                              'Savings account/bonds', 'Present employment', \n",
    "                              'Personal status/sex', 'Debtors/guarantors', \n",
    "                              'Property', 'Other installment plans', 'Housing', \n",
    "                              'Job', 'Telephone', 'Foreign worker'], axis = 1)"
   ]
  },
  {
   "cell_type": "markdown",
   "metadata": {},
   "source": [
    "Get dimensions of numeric dataframe"
   ]
  },
  {
   "cell_type": "code",
   "execution_count": 27,
   "metadata": {
    "collapsed": false
   },
   "outputs": [
    {
     "data": {
      "text/plain": [
       "(1000, 8)"
      ]
     },
     "execution_count": 27,
     "metadata": {},
     "output_type": "execute_result"
    }
   ],
   "source": [
    "credit_new.shape                              "
   ]
  },
  {
   "cell_type": "markdown",
   "metadata": {},
   "source": [
    "Combine numeric and categorical dataframes using .join() "
   ]
  },
  {
   "cell_type": "code",
   "execution_count": 28,
   "metadata": {
    "collapsed": true
   },
   "outputs": [],
   "source": [
    "german_new_credit = dummy_var.join(credit_new)  "
   ]
  },
  {
   "cell_type": "markdown",
   "metadata": {},
   "source": [
    "Get demensions of new dataframe"
   ]
  },
  {
   "cell_type": "code",
   "execution_count": 29,
   "metadata": {
    "collapsed": false
   },
   "outputs": [
    {
     "data": {
      "text/plain": [
       "(1000, 62)"
      ]
     },
     "execution_count": 29,
     "metadata": {},
     "output_type": "execute_result"
    }
   ],
   "source": [
    "german_new_credit.shape        "
   ]
  },
  {
   "cell_type": "markdown",
   "metadata": {},
   "source": [
    "## 4. Model Building Version 1"
   ]
  },
  {
   "cell_type": "markdown",
   "metadata": {},
   "source": [
    "Sklearn requires the logistic regression fit with a matrix or array. Separate the data into independent (X) and dependent (Y) variables, then convert to matrix format. "
   ]
  },
  {
   "cell_type": "code",
   "execution_count": 30,
   "metadata": {
    "collapsed": true
   },
   "outputs": [],
   "source": [
    "#Subset dataframe into indepedent and dependent variables\n",
    "X = german_new_credit.drop('Classification', axis = 1)\n",
    "Y = german_credit['Classification']\n",
    "#Convert dataframe to matrix \n",
    "X_mat = X.as_matrix()\n",
    "Y_mat = Y.as_matrix()"
   ]
  },
  {
   "cell_type": "markdown",
   "metadata": {},
   "source": [
    "Logistic regression"
   ]
  },
  {
   "cell_type": "code",
   "execution_count": 31,
   "metadata": {
    "collapsed": false
   },
   "outputs": [
    {
     "data": {
      "text/plain": [
       "LogisticRegression(C=1.0, class_weight=None, dual=False, fit_intercept=True,\n",
       "          intercept_scaling=1, max_iter=100, multi_class='ovr',\n",
       "          penalty='l2', random_state=None, solver='liblinear', tol=0.0001,\n",
       "          verbose=0)"
      ]
     },
     "execution_count": 31,
     "metadata": {},
     "output_type": "execute_result"
    }
   ],
   "source": [
    "#Create logistic regression object\n",
    "logreg = ln.LogisticRegression()\n",
    "#Fit the logistic regression \n",
    "logreg.fit(X_mat, Y_mat)"
   ]
  },
  {
   "cell_type": "markdown",
   "metadata": {},
   "source": [
    "## 5. Model Evaluation Version 1"
   ]
  },
  {
   "cell_type": "code",
   "execution_count": 32,
   "metadata": {
    "collapsed": false
   },
   "outputs": [
    {
     "name": "stdout",
     "output_type": "stream",
     "text": [
      "0.748\n"
     ]
    }
   ],
   "source": [
    "#Accuracy of test set\n",
    "score = cross_val_score(logreg, X_mat, Y_mat, scoring = 'accuracy', cv = 10)\n",
    "sum_score = np.mean(score)\n",
    "print(sum_score)"
   ]
  },
  {
   "cell_type": "code",
   "execution_count": 33,
   "metadata": {
    "collapsed": false
   },
   "outputs": [
    {
     "name": "stdout",
     "output_type": "stream",
     "text": [
      "0.463333333333\n"
     ]
    }
   ],
   "source": [
    "#Recall of test set\n",
    "recall_score = cross_val_score(logreg, X_mat, Y_mat, scoring = 'recall', cv = 10)\n",
    "sum_recall_score = np.mean(recall_score)\n",
    "print(sum_recall_score)"
   ]
  },
  {
   "cell_type": "code",
   "execution_count": 34,
   "metadata": {
    "collapsed": false
   },
   "outputs": [
    {
     "name": "stdout",
     "output_type": "stream",
     "text": [
      "0.616772086337\n"
     ]
    }
   ],
   "source": [
    "#Precision of test set\n",
    "precision_score = cross_val_score(logreg, X_mat, Y_mat, scoring = 'precision', cv = 10)\n",
    "sum_precision_score = np.mean(precision_score)\n",
    "print(sum_precision_score)"
   ]
  },
  {
   "cell_type": "code",
   "execution_count": 35,
   "metadata": {
    "collapsed": false
   },
   "outputs": [
    {
     "name": "stdout",
     "output_type": "stream",
     "text": [
      "0.79119047619\n"
     ]
    }
   ],
   "source": [
    "#AUC\n",
    "auc_score = cross_val_score(logreg, X_mat, Y_mat, scoring = 'roc_auc', cv = 10)\n",
    "sum_auc_score = np.mean(auc_score)\n",
    "print(sum_auc_score)"
   ]
  },
  {
   "cell_type": "markdown",
   "metadata": {},
   "source": [
    "## Model 1 Analysis "
   ]
  },
  {
   "cell_type": "markdown",
   "metadata": {},
   "source": [
    "The classifier seems accurate for predicting bad creditors at 74.8%. There is a class imbalance, meaning that other classification metrics are required. The recall shows 46.3% of the bad creditors are correctly labeled as bad. Precision identifies 61.67% of the bad creditors labeled by the model who were actually bad. "
   ]
  },
  {
   "cell_type": "markdown",
   "metadata": {},
   "source": [
    "## 6. Model Building Version 2 "
   ]
  },
  {
   "cell_type": "markdown",
   "metadata": {},
   "source": [
    "### Continuing from pt.1 of combining the categorical and numeric data"
   ]
  },
  {
   "cell_type": "markdown",
   "metadata": {},
   "source": [
    "### 6a. Oversampling "
   ]
  },
  {
   "cell_type": "markdown",
   "metadata": {},
   "source": [
    "The UnbalancedDataset package is for python and provides different algorithms for fixing unbalanced datastets. Here’s the [link](https://github.com/fmfn/UnbalancedDataset). I applied the SMOTE algorithm to create 400 more observations of variables with the minority class (bad creditors) for a 50/50 distribution of 700 each. I weighted the proportions of the majority to minority class for a 50/50 ratio. "
   ]
  },
  {
   "cell_type": "code",
   "execution_count": 36,
   "metadata": {
    "collapsed": false
   },
   "outputs": [
    {
     "data": {
      "text/plain": [
       "1    700\n",
       "0    700\n",
       "dtype: int64"
      ]
     },
     "execution_count": 36,
     "metadata": {},
     "output_type": "execute_result"
    }
   ],
   "source": [
    "#Set verbose as false to show less information\n",
    "verbose = False\n",
    "#Ratio of majority to minority class for 50/50 distribution\n",
    "smote = SMOTE(ratio = 1.335, verbose = False, kind = 'regular')\n",
    "#Fit data and transform\n",
    "X_mod = X.as_matrix()\n",
    "Y_mod = np.array(Y)\n",
    "#Create new dataset\n",
    "smox, smoy = smote.fit_transform(X_mod, Y_mod) \n",
    "#Check ratio of good and bad creditors\n",
    "#Convert matrix to dataframe\n",
    "y_data = pd.DataFrame(smoy, columns = ['classification'])\n",
    "#check work\n",
    "y_data['classification'].value_counts()"
   ]
  },
  {
   "cell_type": "markdown",
   "metadata": {},
   "source": [
    "## 7. Model Building Version 2"
   ]
  },
  {
   "cell_type": "code",
   "execution_count": 37,
   "metadata": {
    "collapsed": false,
    "scrolled": true
   },
   "outputs": [
    {
     "data": {
      "text/plain": [
       "LogisticRegression(C=1.0, class_weight=None, dual=False, fit_intercept=True,\n",
       "          intercept_scaling=1, max_iter=100, multi_class='ovr',\n",
       "          penalty='l2', random_state=None, solver='liblinear', tol=0.0001,\n",
       "          verbose=0)"
      ]
     },
     "execution_count": 37,
     "metadata": {},
     "output_type": "execute_result"
    }
   ],
   "source": [
    "#Create logistic regression object\n",
    "logreg_ov = ln.LogisticRegression()\n",
    "#Model building\n",
    "#Fit the logistic regression \n",
    "logreg_ov.fit(smox, smoy)"
   ]
  },
  {
   "cell_type": "markdown",
   "metadata": {},
   "source": [
    "## 8. Model Evaluation Version 2"
   ]
  },
  {
   "cell_type": "code",
   "execution_count": 38,
   "metadata": {
    "collapsed": false
   },
   "outputs": [
    {
     "name": "stdout",
     "output_type": "stream",
     "text": [
      "0.768571428571\n"
     ]
    }
   ],
   "source": [
    "#Accuracy of test set\n",
    "score_ov = cross_val_score(logreg_ov, smox, smoy, scoring = 'accuracy', cv = 10)\n",
    "sum_score_ov = np.mean(score_ov)\n",
    "print(sum_score_ov)"
   ]
  },
  {
   "cell_type": "code",
   "execution_count": 39,
   "metadata": {
    "collapsed": false
   },
   "outputs": [
    {
     "name": "stdout",
     "output_type": "stream",
     "text": [
      "0.794285714286\n"
     ]
    }
   ],
   "source": [
    "#Recall of test set\n",
    "recall_score_ov = cross_val_score(logreg_ov, smox, smoy, scoring = 'recall', cv = 10)\n",
    "sum_recall_score_ov = np.mean(recall_score_ov)\n",
    "print(sum_recall_score_ov)"
   ]
  },
  {
   "cell_type": "code",
   "execution_count": 40,
   "metadata": {
    "collapsed": false
   },
   "outputs": [
    {
     "name": "stdout",
     "output_type": "stream",
     "text": [
      "0.756366262521\n"
     ]
    }
   ],
   "source": [
    "#Precision of test set\n",
    "precision_score_ov = cross_val_score(logreg_ov, smox, smoy, scoring = 'precision', cv = 10)\n",
    "sum_precision_score_ov = np.mean(precision_score_ov)\n",
    "print(sum_precision_score_ov)"
   ]
  },
  {
   "cell_type": "code",
   "execution_count": 41,
   "metadata": {
    "collapsed": false
   },
   "outputs": [
    {
     "name": "stdout",
     "output_type": "stream",
     "text": [
      "0.830632653061\n"
     ]
    }
   ],
   "source": [
    "#AUC\n",
    "auc_score_ov = cross_val_score(logreg_ov, smox, smoy, scoring = 'roc_auc', cv = 10)\n",
    "sum_auc_score_ov = np.mean(auc_score_ov)\n",
    "print(sum_auc_score_ov)"
   ]
  },
  {
   "cell_type": "markdown",
   "metadata": {},
   "source": [
    "# 9. Conclusion "
   ]
  },
  {
   "cell_type": "markdown",
   "metadata": {},
   "source": [
    "Compare evaluation scores of the logit model with no data transformations (standard) to the model with oversampling (SMOTE). \n",
    "\n",
    "SMOTE represents the preferred model because of higher AUC, Accuracy, Precision, and Recall scores. Accuracy may give the wrong impression about the results because the classes are unbalanced. The classifier might have achieved the score from predicting the more common class. Precision, Recall, and AUC remain the most important evaluation metrics. The SMOTE model has a precision score of 75.1% compared to Standard with 61.7%. In SMOTE, 75.1% of the bad creditors labels are true. SMOTE’s has a recall score of 79.9% compared to Standard with 43.6%. In SMOTE, 79.9% of the good creditors are not accidentally labeled as bad. AUC shows the score for the chances of guess a class label correct given random positive and negative observations. Again, SMOTE has a higher score with 82.3% compared to Standard with 79.1%. "
   ]
  },
  {
   "cell_type": "markdown",
   "metadata": {},
   "source": [
    "## 9a. Create Evaluation Visualization"
   ]
  },
  {
   "cell_type": "markdown",
   "metadata": {},
   "source": [
    "Create dictionary of results for each model."
   ]
  },
  {
   "cell_type": "code",
   "execution_count": 42,
   "metadata": {
    "collapsed": true
   },
   "outputs": [],
   "source": [
    "Measure = {\n",
    "    'Accuracy': [sum_score, sum_score_ov],\n",
    "    'Precision': [sum_precision_score, sum_precision_score_ov],\n",
    "    'Recall': [sum_recall_score, sum_recall_score_ov],\n",
    "    'AUC': [sum_auc_score, sum_auc_score_ov],\n",
    "    'Model': ['Standard', 'SMOTE']\n",
    "}  "
   ]
  },
  {
   "cell_type": "markdown",
   "metadata": {},
   "source": [
    "Create dataframe"
   ]
  },
  {
   "cell_type": "code",
   "execution_count": 43,
   "metadata": {
    "collapsed": false
   },
   "outputs": [],
   "source": [
    "new = pd.DataFrame(Measure)       "
   ]
  },
  {
   "cell_type": "markdown",
   "metadata": {},
   "source": [
    "Multiple barplot of Standard and SMOTE model. "
   ]
  },
  {
   "cell_type": "code",
   "execution_count": 44,
   "metadata": {
    "collapsed": false
   },
   "outputs": [
    {
     "data": {
      "text/plain": [
       "<matplotlib.axes._subplots.AxesSubplot at 0x108fe6550>"
      ]
     },
     "execution_count": 44,
     "metadata": {},
     "output_type": "execute_result"
    },
    {
     "data": {
      "image/png": "[encoded data removed]",
      "text/plain": [
       "<matplotlib.figure.Figure at 0x108fd8080>"
      ]
     },
     "metadata": {},
     "output_type": "display_data"
    }
   ],
   "source": [
    "new.plot(kind = 'bar', x = 'Model', figsize = (9, 11))"
   ]
  },
  {
   "cell_type": "markdown",
   "metadata": {},
   "source": [
    "# 10. Additional Comments"
   ]
  },
  {
   "cell_type": "markdown",
   "metadata": {},
   "source": [
    "I created two more models, one with the numeric variables standardized and the other with dimensionality reduction using the PCA algorithm. Both performed worse than SMOTE and the results can be seen in the github repository for the capstone project. \n",
    "\n",
    "[Link to repository](https://github.com/ScottD61/Thinkful/blob/master/Capstone%20Project/capstone.py)"
   ]
  }
 ],
 "metadata": {
  "kernelspec": {
   "display_name": "Python 3",
   "language": "python",
   "name": "python3"
  },
  "language_info": {
   "codemirror_mode": {
    "name": "ipython",
    "version": 3
   },
   "file_extension": ".py",
   "mimetype": "text/x-python",
   "name": "python",
   "nbconvert_exporter": "python",
   "pygments_lexer": "ipython3",
   "version": "3.4.4"
  }
 },
 "nbformat": 4,
 "nbformat_minor": 0
}
